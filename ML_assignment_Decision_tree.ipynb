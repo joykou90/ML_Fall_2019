{
 "cells": [
  {
   "cell_type": "code",
   "execution_count": 1,
   "metadata": {},
   "outputs": [],
   "source": [
    "import pandas as pd\n",
    "import numpy as np\n",
    "from sklearn.model_selection import KFold\n",
    "from sklearn.model_selection import cross_val_score, cross_validate\n",
    "from sklearn.preprocessing import StandardScaler\n",
    "from sklearn import svm\n",
    "from sklearn.model_selection import train_test_split\n",
    "from sklearn import tree\n",
    "from sklearn.metrics import precision_recall_fscore_support, accuracy_score\n",
    "from sklearn.model_selection import GridSearchCV\n",
    "from sklearn.model_selection import StratifiedKFold\n",
    "import matplotlib.pyplot as plt\n",
    "from matplotlib.legend_handler import HandlerLine2D\n",
    "%matplotlib inline "
   ]
  },
  {
   "cell_type": "code",
   "execution_count": 2,
   "metadata": {},
   "outputs": [],
   "source": [
    "df = pd.read_csv('data.csv', header=None)"
   ]
  },
  {
   "cell_type": "code",
   "execution_count": 3,
   "metadata": {},
   "outputs": [],
   "source": [
    "# df[df[3] == '?'].index.values\n",
    "# df.shape\n",
    "# df.drop(df[df[3] == '?'])"
   ]
  },
  {
   "cell_type": "code",
   "execution_count": 4,
   "metadata": {},
   "outputs": [
    {
     "name": "stdout",
     "output_type": "stream",
     "text": [
      "0\n",
      "1\n",
      "3\n",
      "4\n",
      "5\n",
      "6\n",
      "13\n"
     ]
    }
   ],
   "source": [
    "for column in [0,1,3,4,5,6,13]:\n",
    "    print (column)\n",
    "    df.drop(index=df[df[column] == '?'].index.values, inplace=True)"
   ]
  },
  {
   "cell_type": "code",
   "execution_count": 5,
   "metadata": {},
   "outputs": [
    {
     "data": {
      "text/html": [
       "<div>\n",
       "<style scoped>\n",
       "    .dataframe tbody tr th:only-of-type {\n",
       "        vertical-align: middle;\n",
       "    }\n",
       "\n",
       "    .dataframe tbody tr th {\n",
       "        vertical-align: top;\n",
       "    }\n",
       "\n",
       "    .dataframe thead th {\n",
       "        text-align: right;\n",
       "    }\n",
       "</style>\n",
       "<table border=\"1\" class=\"dataframe\">\n",
       "  <thead>\n",
       "    <tr style=\"text-align: right;\">\n",
       "      <th></th>\n",
       "      <th>0</th>\n",
       "      <th>1</th>\n",
       "      <th>2</th>\n",
       "      <th>3</th>\n",
       "      <th>4</th>\n",
       "      <th>5</th>\n",
       "      <th>6</th>\n",
       "      <th>7</th>\n",
       "      <th>8</th>\n",
       "      <th>9</th>\n",
       "      <th>10</th>\n",
       "      <th>11</th>\n",
       "      <th>12</th>\n",
       "      <th>13</th>\n",
       "      <th>14</th>\n",
       "      <th>15</th>\n",
       "    </tr>\n",
       "  </thead>\n",
       "  <tbody>\n",
       "    <tr>\n",
       "      <th>0</th>\n",
       "      <td>b</td>\n",
       "      <td>30.83</td>\n",
       "      <td>0.00</td>\n",
       "      <td>u</td>\n",
       "      <td>g</td>\n",
       "      <td>w</td>\n",
       "      <td>v</td>\n",
       "      <td>1.25</td>\n",
       "      <td>t</td>\n",
       "      <td>t</td>\n",
       "      <td>1</td>\n",
       "      <td>f</td>\n",
       "      <td>g</td>\n",
       "      <td>00202</td>\n",
       "      <td>0</td>\n",
       "      <td>+</td>\n",
       "    </tr>\n",
       "    <tr>\n",
       "      <th>1</th>\n",
       "      <td>a</td>\n",
       "      <td>58.67</td>\n",
       "      <td>4.46</td>\n",
       "      <td>u</td>\n",
       "      <td>g</td>\n",
       "      <td>q</td>\n",
       "      <td>h</td>\n",
       "      <td>3.04</td>\n",
       "      <td>t</td>\n",
       "      <td>t</td>\n",
       "      <td>6</td>\n",
       "      <td>f</td>\n",
       "      <td>g</td>\n",
       "      <td>00043</td>\n",
       "      <td>560</td>\n",
       "      <td>+</td>\n",
       "    </tr>\n",
       "    <tr>\n",
       "      <th>2</th>\n",
       "      <td>a</td>\n",
       "      <td>24.50</td>\n",
       "      <td>0.50</td>\n",
       "      <td>u</td>\n",
       "      <td>g</td>\n",
       "      <td>q</td>\n",
       "      <td>h</td>\n",
       "      <td>1.50</td>\n",
       "      <td>t</td>\n",
       "      <td>f</td>\n",
       "      <td>0</td>\n",
       "      <td>f</td>\n",
       "      <td>g</td>\n",
       "      <td>00280</td>\n",
       "      <td>824</td>\n",
       "      <td>+</td>\n",
       "    </tr>\n",
       "  </tbody>\n",
       "</table>\n",
       "</div>"
      ],
      "text/plain": [
       "  0      1     2  3  4  5  6     7  8  9   10 11 12     13   14 15\n",
       "0  b  30.83  0.00  u  g  w  v  1.25  t  t   1  f  g  00202    0  +\n",
       "1  a  58.67  4.46  u  g  q  h  3.04  t  t   6  f  g  00043  560  +\n",
       "2  a  24.50  0.50  u  g  q  h  1.50  t  f   0  f  g  00280  824  +"
      ]
     },
     "execution_count": 5,
     "metadata": {},
     "output_type": "execute_result"
    }
   ],
   "source": [
    "df[:3]"
   ]
  },
  {
   "cell_type": "code",
   "execution_count": 6,
   "metadata": {},
   "outputs": [
    {
     "name": "stdout",
     "output_type": "stream",
     "text": [
      "0     category\n",
      "1      float64\n",
      "2      float64\n",
      "3     category\n",
      "4     category\n",
      "5     category\n",
      "6     category\n",
      "7      float64\n",
      "8     category\n",
      "9     category\n",
      "10     float64\n",
      "11    category\n",
      "12    category\n",
      "13     float64\n",
      "14     float64\n",
      "15    category\n",
      "dtype: object\n"
     ]
    }
   ],
   "source": [
    "col_numberic = [1,2,7,10,13,14]\n",
    "col_category = [0,3,4,5,6,8,9,11,12,15]\n",
    "df[col_numberic] = df[col_numberic].astype(float)\n",
    "df[col_category] = df[col_category].astype('category')\n",
    "print (df.dtypes)"
   ]
  },
  {
   "cell_type": "code",
   "execution_count": 7,
   "metadata": {},
   "outputs": [
    {
     "data": {
      "text/html": [
       "<div>\n",
       "<style scoped>\n",
       "    .dataframe tbody tr th:only-of-type {\n",
       "        vertical-align: middle;\n",
       "    }\n",
       "\n",
       "    .dataframe tbody tr th {\n",
       "        vertical-align: top;\n",
       "    }\n",
       "\n",
       "    .dataframe thead th {\n",
       "        text-align: right;\n",
       "    }\n",
       "</style>\n",
       "<table border=\"1\" class=\"dataframe\">\n",
       "  <thead>\n",
       "    <tr style=\"text-align: right;\">\n",
       "      <th></th>\n",
       "      <th>0</th>\n",
       "      <th>1</th>\n",
       "      <th>2</th>\n",
       "      <th>3</th>\n",
       "      <th>4</th>\n",
       "      <th>5</th>\n",
       "      <th>6</th>\n",
       "      <th>7</th>\n",
       "      <th>8</th>\n",
       "      <th>9</th>\n",
       "      <th>10</th>\n",
       "      <th>11</th>\n",
       "      <th>12</th>\n",
       "      <th>13</th>\n",
       "      <th>14</th>\n",
       "      <th>15</th>\n",
       "    </tr>\n",
       "  </thead>\n",
       "  <tbody>\n",
       "    <tr>\n",
       "      <th>0</th>\n",
       "      <td>1</td>\n",
       "      <td>30.83</td>\n",
       "      <td>0.00</td>\n",
       "      <td>1</td>\n",
       "      <td>0</td>\n",
       "      <td>12</td>\n",
       "      <td>7</td>\n",
       "      <td>1.25</td>\n",
       "      <td>1</td>\n",
       "      <td>1</td>\n",
       "      <td>1.0</td>\n",
       "      <td>0</td>\n",
       "      <td>0</td>\n",
       "      <td>202.0</td>\n",
       "      <td>0.0</td>\n",
       "      <td>1</td>\n",
       "    </tr>\n",
       "    <tr>\n",
       "      <th>1</th>\n",
       "      <td>0</td>\n",
       "      <td>58.67</td>\n",
       "      <td>4.46</td>\n",
       "      <td>1</td>\n",
       "      <td>0</td>\n",
       "      <td>10</td>\n",
       "      <td>3</td>\n",
       "      <td>3.04</td>\n",
       "      <td>1</td>\n",
       "      <td>1</td>\n",
       "      <td>6.0</td>\n",
       "      <td>0</td>\n",
       "      <td>0</td>\n",
       "      <td>43.0</td>\n",
       "      <td>560.0</td>\n",
       "      <td>1</td>\n",
       "    </tr>\n",
       "    <tr>\n",
       "      <th>2</th>\n",
       "      <td>0</td>\n",
       "      <td>24.50</td>\n",
       "      <td>0.50</td>\n",
       "      <td>1</td>\n",
       "      <td>0</td>\n",
       "      <td>10</td>\n",
       "      <td>3</td>\n",
       "      <td>1.50</td>\n",
       "      <td>1</td>\n",
       "      <td>0</td>\n",
       "      <td>0.0</td>\n",
       "      <td>0</td>\n",
       "      <td>0</td>\n",
       "      <td>280.0</td>\n",
       "      <td>824.0</td>\n",
       "      <td>1</td>\n",
       "    </tr>\n",
       "    <tr>\n",
       "      <th>3</th>\n",
       "      <td>1</td>\n",
       "      <td>27.83</td>\n",
       "      <td>1.54</td>\n",
       "      <td>1</td>\n",
       "      <td>0</td>\n",
       "      <td>12</td>\n",
       "      <td>7</td>\n",
       "      <td>3.75</td>\n",
       "      <td>1</td>\n",
       "      <td>1</td>\n",
       "      <td>5.0</td>\n",
       "      <td>1</td>\n",
       "      <td>0</td>\n",
       "      <td>100.0</td>\n",
       "      <td>3.0</td>\n",
       "      <td>1</td>\n",
       "    </tr>\n",
       "  </tbody>\n",
       "</table>\n",
       "</div>"
      ],
      "text/plain": [
       "   0      1     2   3   4   5   6     7   8   9    10  11  12     13     14  \\\n",
       "0   1  30.83  0.00   1   0  12   7  1.25   1   1  1.0   0   0  202.0    0.0   \n",
       "1   0  58.67  4.46   1   0  10   3  3.04   1   1  6.0   0   0   43.0  560.0   \n",
       "2   0  24.50  0.50   1   0  10   3  1.50   1   0  0.0   0   0  280.0  824.0   \n",
       "3   1  27.83  1.54   1   0  12   7  3.75   1   1  5.0   1   0  100.0    3.0   \n",
       "\n",
       "   15  \n",
       "0   1  \n",
       "1   1  \n",
       "2   1  \n",
       "3   1  "
      ]
     },
     "execution_count": 7,
     "metadata": {},
     "output_type": "execute_result"
    }
   ],
   "source": [
    "# Category features => one hot encoding vectors\n",
    "# train_df = pd.get_dummies(df)\n",
    "from sklearn.preprocessing import LabelEncoder\n",
    "le=LabelEncoder()\n",
    "\n",
    "for col in df.columns.values:\n",
    "    # Encoding only categorical variables\n",
    "#     print (col)\n",
    "    if df[col].dtype.name=='category':\n",
    "    # Using whole data to form an exhaustive list of levels\n",
    "#     data=X_train[col].append(X_test[col])\n",
    "        le.fit(df[col])\n",
    "        df[col] = le.transform(df[col])\n",
    "#         print ()\n",
    "#         print (le.transform(df[col]))\n",
    "#     X_train[col]=le.transform(X_train[col])\n",
    "#     X_test[col]=le.transform(X_test[col])\n",
    "\n",
    "train_df = df.copy()\n",
    "ix_pos = df[15] == 0\n",
    "ix_neg = df[15] != 0\n",
    "train_df.loc[ix_pos,15] = 1\n",
    "train_df.loc[ix_neg,15] = 0\n",
    "\n",
    "# train_df = df\n",
    "train_df[:4]"
   ]
  },
  {
   "cell_type": "code",
   "execution_count": 8,
   "metadata": {},
   "outputs": [
    {
     "data": {
      "text/plain": [
       "0    1\n",
       "1    1\n",
       "2    1\n",
       "Name: 15, dtype: int64"
      ]
     },
     "execution_count": 8,
     "metadata": {},
     "output_type": "execute_result"
    }
   ],
   "source": [
    "# train_df[4].unique()\n",
    "# ix_neg\n",
    "train_df.loc[ix_pos,15][:3]"
   ]
  },
  {
   "cell_type": "code",
   "execution_count": 9,
   "metadata": {},
   "outputs": [
    {
     "data": {
      "text/html": [
       "<div>\n",
       "<style scoped>\n",
       "    .dataframe tbody tr th:only-of-type {\n",
       "        vertical-align: middle;\n",
       "    }\n",
       "\n",
       "    .dataframe tbody tr th {\n",
       "        vertical-align: top;\n",
       "    }\n",
       "\n",
       "    .dataframe thead th {\n",
       "        text-align: right;\n",
       "    }\n",
       "</style>\n",
       "<table border=\"1\" class=\"dataframe\">\n",
       "  <thead>\n",
       "    <tr style=\"text-align: right;\">\n",
       "      <th></th>\n",
       "      <th>0</th>\n",
       "      <th>1</th>\n",
       "      <th>2</th>\n",
       "      <th>3</th>\n",
       "      <th>4</th>\n",
       "      <th>5</th>\n",
       "      <th>6</th>\n",
       "      <th>7</th>\n",
       "      <th>8</th>\n",
       "      <th>9</th>\n",
       "      <th>10</th>\n",
       "      <th>11</th>\n",
       "      <th>12</th>\n",
       "      <th>13</th>\n",
       "      <th>14</th>\n",
       "      <th>15</th>\n",
       "    </tr>\n",
       "  </thead>\n",
       "  <tbody>\n",
       "    <tr>\n",
       "      <th>0</th>\n",
       "      <td>1</td>\n",
       "      <td>-0.056962</td>\n",
       "      <td>-0.961440</td>\n",
       "      <td>1</td>\n",
       "      <td>0</td>\n",
       "      <td>12</td>\n",
       "      <td>7</td>\n",
       "      <td>-0.295171</td>\n",
       "      <td>1</td>\n",
       "      <td>1</td>\n",
       "      <td>-0.302596</td>\n",
       "      <td>0</td>\n",
       "      <td>0</td>\n",
       "      <td>0.128682</td>\n",
       "      <td>-0.193125</td>\n",
       "      <td>1</td>\n",
       "    </tr>\n",
       "    <tr>\n",
       "      <th>1</th>\n",
       "      <td>0</td>\n",
       "      <td>2.296536</td>\n",
       "      <td>-0.073565</td>\n",
       "      <td>1</td>\n",
       "      <td>0</td>\n",
       "      <td>10</td>\n",
       "      <td>3</td>\n",
       "      <td>0.236217</td>\n",
       "      <td>1</td>\n",
       "      <td>1</td>\n",
       "      <td>0.704516</td>\n",
       "      <td>0</td>\n",
       "      <td>0</td>\n",
       "      <td>-0.816802</td>\n",
       "      <td>-0.086443</td>\n",
       "      <td>1</td>\n",
       "    </tr>\n",
       "    <tr>\n",
       "      <th>2</th>\n",
       "      <td>0</td>\n",
       "      <td>-0.592078</td>\n",
       "      <td>-0.861903</td>\n",
       "      <td>1</td>\n",
       "      <td>0</td>\n",
       "      <td>10</td>\n",
       "      <td>3</td>\n",
       "      <td>-0.220955</td>\n",
       "      <td>1</td>\n",
       "      <td>0</td>\n",
       "      <td>-0.504019</td>\n",
       "      <td>0</td>\n",
       "      <td>0</td>\n",
       "      <td>0.592504</td>\n",
       "      <td>-0.036150</td>\n",
       "      <td>1</td>\n",
       "    </tr>\n",
       "    <tr>\n",
       "      <th>3</th>\n",
       "      <td>1</td>\n",
       "      <td>-0.310572</td>\n",
       "      <td>-0.654865</td>\n",
       "      <td>1</td>\n",
       "      <td>0</td>\n",
       "      <td>12</td>\n",
       "      <td>7</td>\n",
       "      <td>0.446990</td>\n",
       "      <td>1</td>\n",
       "      <td>1</td>\n",
       "      <td>0.503093</td>\n",
       "      <td>1</td>\n",
       "      <td>0</td>\n",
       "      <td>-0.477855</td>\n",
       "      <td>-0.192553</td>\n",
       "      <td>1</td>\n",
       "    </tr>\n",
       "  </tbody>\n",
       "</table>\n",
       "</div>"
      ],
      "text/plain": [
       "   0         1         2   3   4   5   6         7   8   9         10  11  12  \\\n",
       "0   1 -0.056962 -0.961440   1   0  12   7 -0.295171   1   1 -0.302596   0   0   \n",
       "1   0  2.296536 -0.073565   1   0  10   3  0.236217   1   1  0.704516   0   0   \n",
       "2   0 -0.592078 -0.861903   1   0  10   3 -0.220955   1   0 -0.504019   0   0   \n",
       "3   1 -0.310572 -0.654865   1   0  12   7  0.446990   1   1  0.503093   1   0   \n",
       "\n",
       "         13        14  15  \n",
       "0  0.128682 -0.193125   1  \n",
       "1 -0.816802 -0.086443   1  \n",
       "2  0.592504 -0.036150   1  \n",
       "3 -0.477855 -0.192553   1  "
      ]
     },
     "execution_count": 9,
     "metadata": {},
     "output_type": "execute_result"
    }
   ],
   "source": [
    "# Normalize data\n",
    "ss = StandardScaler()\n",
    "train_df[col_numberic] = ss.fit_transform(train_df[col_numberic])\n",
    "train_df[:4]"
   ]
  },
  {
   "cell_type": "code",
   "execution_count": 10,
   "metadata": {},
   "outputs": [
    {
     "name": "stdout",
     "output_type": "stream",
     "text": [
      "[0, 1, 2, 3, 4, 5, 6, 7, 8, 9, 10, 11, 12, 13, 14]\n",
      "15\n"
     ]
    }
   ],
   "source": [
    "all_names = list(train_df.columns.values)\n",
    "name_col_x = all_names[:-1]\n",
    "name_col_Y = all_names[-1]\n",
    "print (name_col_x)\n",
    "print (name_col_Y)"
   ]
  },
  {
   "cell_type": "code",
   "execution_count": 11,
   "metadata": {},
   "outputs": [],
   "source": [
    "X_data = train_df[name_col_x].values\n",
    "Y_data = train_df[name_col_Y].values"
   ]
  },
  {
   "cell_type": "code",
   "execution_count": 12,
   "metadata": {},
   "outputs": [
    {
     "data": {
      "text/plain": [
       "dtype('int64')"
      ]
     },
     "execution_count": 12,
     "metadata": {},
     "output_type": "execute_result"
    }
   ],
   "source": [
    "Y_data.dtype"
   ]
  },
  {
   "cell_type": "code",
   "execution_count": 35,
   "metadata": {},
   "outputs": [],
   "source": [
    "# Choose the model here!!!!\n",
    "# clf = svm.SVC(gamma='auto')\n",
    "# clf = tree.DecisionTreeClassifier(max_depth=6, max_features=13, min_samples_leaf=2, min_samples_split=0.1)\n",
    "clf = tree.DecisionTreeClassifier(max_depth=6, max_features= 6, min_samples_split=0.2, min_samples_leaf=4)\n",
    "\n",
    "# {'max_depth': 5, 'max_features': 12, 'min_samples_leaf': 1, 'min_samples_split': 1.0}"
   ]
  },
  {
   "cell_type": "code",
   "execution_count": 36,
   "metadata": {},
   "outputs": [],
   "source": [
    "# X_train, X_test, y_train, y_test = train_test_split(X_data, Y_data, test_size=0.33, random_state=42)\n",
    "# clf.fit(X_train, y_train)\n",
    "# y_pred = clf.predict(X_test)\n",
    "# precision_recall_fscore_support(y_test, y_pred)\n",
    "# clf.score(X_test, y_test)\n",
    "# report_lr = precision_recall_fscore_support(y_test, y_pred, average='binary')\n",
    "# print (\"\\nprecision = %0.2f, recall = %0.2f, F1 = %0.2f, accuracy = %0.2f\\n\" % \\\n",
    "#            (report_lr[0], report_lr[1], report_lr[2], accuracy_score(y_test, y_pred)))"
   ]
  },
  {
   "cell_type": "code",
   "execution_count": 37,
   "metadata": {},
   "outputs": [
    {
     "name": "stdout",
     "output_type": "stream",
     "text": [
      "dict_keys(['fit_time', 'score_time', 'test_accuracy', 'test_precision', 'test_recall'])\n",
      "[0.62121212 0.83333333 0.86363636 0.87878788 0.78787879 0.83333333\n",
      " 0.89230769 0.90625    0.796875   0.859375  ]\n"
     ]
    }
   ],
   "source": [
    "scores = cross_validate(clf, X_data, Y_data, cv=StratifiedKFold(n_splits=10, shuffle=True), scoring=['accuracy', 'precision', 'recall'],\n",
    "                       return_train_score=False)\n",
    "print (scores.keys())\n",
    "print (scores['test_accuracy'])"
   ]
  },
  {
   "cell_type": "code",
   "execution_count": 38,
   "metadata": {},
   "outputs": [
    {
     "name": "stdout",
     "output_type": "stream",
     "text": [
      "precision = 0.78, recall = 0.86, accuracy = 0.83\n"
     ]
    }
   ],
   "source": [
    "print (\"precision = %0.2f, recall = %0.2f, accuracy = %0.2f\" % \\\n",
    "           (scores['test_precision'].mean(), scores['test_recall'].mean(), scores['test_accuracy'].mean()))"
   ]
  },
  {
   "cell_type": "code",
   "execution_count": 39,
   "metadata": {},
   "outputs": [],
   "source": [
    "# X_train, X_test, y_train, y_test = train_test_split(X_data, Y_data, test_size=0.33, random_state=42)\n",
    "# clf.fit(X_train, y_train)\n",
    "# import graphviz \n",
    "# dot_data = tree.export_graphviz(clf, out_file=None) \n",
    "# graph = graphviz.Source(dot_data) \n",
    "# graph.render(\"ml\") \n",
    "\n",
    "# graph "
   ]
  },
  {
   "cell_type": "code",
   "execution_count": 40,
   "metadata": {},
   "outputs": [],
   "source": [
    "# clf.feature_importances_"
   ]
  },
  {
   "cell_type": "code",
   "execution_count": 54,
   "metadata": {},
   "outputs": [
    {
     "name": "stdout",
     "output_type": "stream",
     "text": [
      "{'min_samples_leaf': 1}\n",
      "0.8223583460949464\n"
     ]
    }
   ],
   "source": [
    "param_grid = {'max_depth': np.arange(3, 10), 'max_features': np.arange(3,14), \n",
    "              'min_samples_split': np.linspace(0.1, 1.0, 10, endpoint=True), \n",
    "              'min_samples_leaf': np.arange(1,5)}\n",
    "#               'min_samples_leaf': np.linspace(0.1, 0.5, 5, endpoint=True)}\n",
    "# param_grid = {'max_depth': np.arange(3, 10)}\n",
    "param_grid = {'min_samples_leaf': np.arange(1,5)}\n",
    "\n",
    "# grid_search = GridSearchCV(tree.DecisionTreeClassifier(max_features=9), param_grid, cv=10)\n",
    "grid_search = GridSearchCV(tree.DecisionTreeClassifier(max_depth=6, max_features= 6, min_samples_split=0.9), param_grid, cv=StratifiedKFold(n_splits=10, shuffle=True))\n",
    "grid_search.fit(X_data, Y_data)\n",
    "print (grid_search.best_params_)\n",
    "print (grid_search.best_score_)\n",
    "# print (grid_search.grid_scores_)\n",
    "# {'max_depth': 4, 'max_features': 12, 'min_samples_split': 0.8}\n",
    "# {'max_depth': 5, 'max_features': 11, 'min_samples_leaf': 0.30000000000000004, 'min_samples_split': 0.4}\n",
    "# {'max_depth': 6, 'max_features': 10, 'min_samples_leaf': 4, 'min_samples_split': 0.9} 0.9035222052067381"
   ]
  },
  {
   "cell_type": "code",
   "execution_count": 55,
   "metadata": {},
   "outputs": [
    {
     "name": "stderr",
     "output_type": "stream",
     "text": [
      "/home/quang/anaconda3/lib/python3.6/site-packages/sklearn/model_selection/_search.py:761: DeprecationWarning: The grid_scores_ attribute was deprecated in version 0.18 in favor of the more elaborate cv_results_ attribute. The grid_scores_ attribute will not be available from 0.20\n",
      "  DeprecationWarning)\n"
     ]
    }
   ],
   "source": [
    "para_values = []\n",
    "acc_vlaues = []\n",
    "for prs in grid_search.grid_scores_:\n",
    "    para_values.append(prs[0]['min_samples_leaf'])\n",
    "    acc_vlaues.append(prs[1])\n",
    "    \n",
    "# print (para_values, acc_vlaues)"
   ]
  },
  {
   "cell_type": "code",
   "execution_count": 56,
   "metadata": {},
   "outputs": [
    {
     "name": "stderr",
     "output_type": "stream",
     "text": [
      "No handles with labels found to put in legend.\n"
     ]
    },
    {
     "data": {
      "image/png": "[encoded data removed]",
      "text/plain": [
       "<Figure size 432x288 with 1 Axes>"
      ]
     },
     "metadata": {},
     "output_type": "display_data"
    }
   ],
   "source": [
    "line1, = plt.plot(para_values, acc_vlaues, 'b')\n",
    "# line2, = plt.plot(max_depths, test_results, ‘r’, label='bce')\n",
    "plt.legend(handler_map={line1: HandlerLine2D(numpoints=2)})\n",
    "plt.title('Decision Tree')\n",
    "plt.ylabel('Accuracy')\n",
    "plt.xlabel('min_samples_leaf')\n",
    "plt.show()"
   ]
  },
  {
   "cell_type": "code",
   "execution_count": 22,
   "metadata": {},
   "outputs": [
    {
     "data": {
      "text/plain": [
       "array([0.1, 0.2, 0.3, 0.4, 0.5])"
      ]
     },
     "execution_count": 22,
     "metadata": {},
     "output_type": "execute_result"
    }
   ],
   "source": [
    "np.linspace(0.1, 0.5, 5, endpoint=True)"
   ]
  },
  {
   "cell_type": "code",
   "execution_count": null,
   "metadata": {},
   "outputs": [],
   "source": []
  }
 ],
 "metadata": {
  "kernelspec": {
   "display_name": "Python 3",
   "language": "python",
   "name": "python3"
  },
  "language_info": {
   "codemirror_mode": {
    "name": "ipython",
    "version": 3
   },
   "file_extension": ".py",
   "mimetype": "text/x-python",
   "name": "python",
   "nbconvert_exporter": "python",
   "pygments_lexer": "ipython3",
   "version": "3.6.5"
  }
 },
 "nbformat": 4,
 "nbformat_minor": 2
}
